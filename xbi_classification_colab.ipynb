{
  "nbformat": 4,
  "nbformat_minor": 0,
  "metadata": {
    "colab": {
      "name": "xbi-classification-colab.ipynb",
      "provenance": [],
      "authorship_tag": "ABX9TyNHYwGMvBPqeljMkwes5EHI",
      "include_colab_link": true
    },
    "kernelspec": {
      "name": "python3",
      "display_name": "Python 3"
    },
    "language_info": {
      "name": "python"
    }
  },
  "cells": [
    {
      "cell_type": "markdown",
      "metadata": {
        "id": "view-in-github",
        "colab_type": "text"
      },
      "source": [
        "<a href=\"https://colab.research.google.com/github/daniloas1992/xbi_classification_colab/blob/main/xbi_classification_colab.ipynb\" target=\"_parent\"><img src=\"https://colab.research.google.com/assets/colab-badge.svg\" alt=\"Open In Colab\"/></a>"
      ]
    },
    {
      "cell_type": "code",
      "execution_count": 1,
      "metadata": {
        "id": "TFvCV0RB9mo0"
      },
      "outputs": [],
      "source": [
        "import os\n",
        "import tensorflow as tf\n",
        "from tensorflow.python.client import device_lib\n",
        "from tensorflow import keras\n",
        "from tensorflow.keras import layers\n",
        "\n",
        "import pandas as pd\n",
        "import numpy as np"
      ]
    },
    {
      "cell_type": "markdown",
      "source": [
        "##**Configuração para executar com GPU em Ambiente de Execução Local**"
      ],
      "metadata": {
        "id": "k3wlgAQBDpbz"
      }
    },
    {
      "cell_type": "markdown",
      "source": [
        "Desabilitar a exibição de logs da GPU (Exibe apenas erros):"
      ],
      "metadata": {
        "id": "8g8uIXsqDgFj"
      }
    },
    {
      "cell_type": "code",
      "source": [
        "tf.compat.v1.logging.set_verbosity(tf.compat.v1.logging.ERROR)"
      ],
      "metadata": {
        "id": "oJ9kbnTyDjKs"
      },
      "execution_count": 2,
      "outputs": []
    },
    {
      "cell_type": "markdown",
      "source": [
        "Limitar o uso de memória da GPU, pois se atingir o limite causa erro na execução do treinamento:"
      ],
      "metadata": {
        "id": "ZxlW3FhCDqhY"
      }
    },
    {
      "cell_type": "code",
      "source": [
        "config = tf.compat.v1.ConfigProto()\n",
        "config.gpu_options.per_process_gpu_memory_fraction = 0.6\n",
        "\n",
        "gpus = tf.config.experimental.list_physical_devices('GPU')\n",
        "\n",
        "if gpus:\n",
        "\n",
        "    try:\n",
        "        for gpu in gpus:\n",
        "            tf.config.experimental.set_memory_growth(gpu, True)\n",
        "    except RuntimeError as e:\n",
        "        print(e)"
      ],
      "metadata": {
        "id": "JIPVuVn8Dvtm"
      },
      "execution_count": 3,
      "outputs": []
    },
    {
      "cell_type": "markdown",
      "source": [
        "Exibir a versão do Tensorflow"
      ],
      "metadata": {
        "id": "WLQRZ6DZD6FV"
      }
    },
    {
      "cell_type": "code",
      "source": [
        "print(tf.__version__)"
      ],
      "metadata": {
        "colab": {
          "base_uri": "https://localhost:8080/"
        },
        "id": "MbzY5850D7SQ",
        "outputId": "5daa974b-208d-49d4-fa86-d330de25275f"
      },
      "execution_count": 4,
      "outputs": [
        {
          "output_type": "stream",
          "name": "stdout",
          "text": [
            "2.1.0\n"
          ]
        }
      ]
    },
    {
      "cell_type": "markdown",
      "metadata": {
        "id": "qLcB9BKtHqiP"
      },
      "source": [
        "##**Obter informações do hardware**"
      ]
    },
    {
      "cell_type": "markdown",
      "metadata": {
        "id": "BOSy5Ops2MyP"
      },
      "source": [
        "Exibir informações sobre GPU:"
      ]
    },
    {
      "cell_type": "code",
      "metadata": {
        "id": "0VzQbbjW1LJU"
      },
      "source": [
        "device_name = tf.test.gpu_device_name()\n",
        "device_lib.list_local_devices()"
      ],
      "execution_count": null,
      "outputs": []
    },
    {
      "cell_type": "markdown",
      "metadata": {
        "id": "Wrtu8-fV2Fo7"
      },
      "source": [
        "Exibir informações sobre CPU e Memória:"
      ]
    },
    {
      "cell_type": "code",
      "metadata": {
        "id": "2ao9GIyS10Ry"
      },
      "source": [
        "!cat /proc/cpuinfo\n",
        "!cat /proc/meminfo"
      ],
      "execution_count": null,
      "outputs": []
    },
    {
      "cell_type": "markdown",
      "metadata": {
        "id": "k0dWNfSQ23AZ"
      },
      "source": [
        "Verificar se a GPU está disponível:"
      ]
    },
    {
      "cell_type": "code",
      "metadata": {
        "id": "otQLkWvU0_ME",
        "colab": {
          "base_uri": "https://localhost:8080/"
        },
        "outputId": "f14de0cd-3645-4eb8-9e80-71bde8860ddf"
      },
      "source": [
        "if device_name != '/device:GPU:0':\n",
        "    print('ATENTION: GPU device not found. CPU will be used!')\n",
        "else:  \n",
        "    print('Found GPU at: {}'.format(device_name))"
      ],
      "execution_count": 7,
      "outputs": [
        {
          "output_type": "stream",
          "name": "stdout",
          "text": [
            "Found GPU at: /device:GPU:0\n"
          ]
        }
      ]
    },
    {
      "cell_type": "markdown",
      "source": [
        "##**Configuração Inicial do classificador**"
      ],
      "metadata": {
        "id": "pBK4mVTCFbpT"
      }
    },
    {
      "cell_type": "code",
      "source": [
        "extractor_name = 'image_diff_extractor'\n",
        "class_attr = 'internal'\n",
        "sampler_name = 'none'\n",
        "n_splits = 24"
      ],
      "metadata": {
        "id": "NnYVVRqeEdKs"
      },
      "execution_count": 8,
      "outputs": []
    },
    {
      "cell_type": "markdown",
      "metadata": {
        "id": "BO6Wh_7zCQcF"
      },
      "source": [
        "#**Configurar dataset**"
      ]
    },
    {
      "cell_type": "markdown",
      "metadata": {
        "id": "dzlKKwcSH0UB"
      },
      "source": [
        "Criar lista com nome das colunas do dataset que não serão utilizadas pelo classificador CNN:"
      ]
    },
    {
      "cell_type": "code",
      "metadata": {
        "id": "9Ii4r83YHZYF"
      },
      "source": [
        "exclude_columns = ['id','tagName','childsNumber','textLength','baseBrowser','targetBrowser','baseDPI','targetDPI','baseScreenshot','targetScreenshot','baseX',\n",
        "'targetX','baseY','targetY','baseHeight','targetHeight','baseWidth','targetWidth','baseParentX','targetParentX','baseParentY','targetParentY','imageDiff',\n",
        "'chiSquared','baseDeviceWidth','targetDeviceWidth','baseViewportWidth','targetViewportWidth','xpath','baseXpath','targetXpath','phash','basePreviousSiblingLeft',\n",
        "'targetPreviousSiblingLeft','basePreviousSiblingTop','targetPreviousSiblingTop','baseNextSiblingLeft','targetNextSiblingLeft','baseNextSiblingTop',\n",
        "'targetNextSiblingTop','baseTextNodes','targetTextNodes','baseFontFamily','targetFontFamily','base_bin1','base_bin2','base_bin3','base_bin4','base_bin5',\n",
        "'base_bin6','base_bin7','base_bin8','base_bin9','base_bin10','target_bin1','target_bin2','target_bin3','target_bin4','target_bin5','target_bin6','target_bin7',\n",
        "'target_bin8','target_bin9','target_bin10','emd','ssim','mse','psnr']"
      ],
      "execution_count": 9,
      "outputs": []
    },
    {
      "cell_type": "markdown",
      "metadata": {
        "id": "RyD4qrFPIG2z"
      },
      "source": [
        "Importar o dataset sem as colunas desnecessárias:"
      ]
    },
    {
      "cell_type": "code",
      "metadata": {
        "id": "n5Nqg8GQ-Ka4"
      },
      "source": [
        "#dataset_path = '/content/32x32-dataset.csv' # Carregar o dataset se estiver utilizando o ambiente de execução do Colab. Precisa fazer upload do arquivo.\n",
        "dataset_path = '/home/danilo/Mestrado/xbi_configurar_dataset/ConvertArffToCsv/32x32_Corrigido.csv' # Carregar o dataset do ambiente de execução local\n",
        "data = pd.read_csv(dataset_path, usecols= lambda column : column not in exclude_columns)"
      ],
      "execution_count": null,
      "outputs": []
    },
    {
      "cell_type": "markdown",
      "metadata": {
        "id": "FX69ytzvokUV"
      },
      "source": [
        "Cria variáveis com os parâmetros das imagens do dataset:"
      ]
    },
    {
      "cell_type": "code",
      "metadata": {
        "id": "axxjMrc4oiSy"
      },
      "source": [
        "image_width = 32\n",
        "image_height = 32\n",
        "image_color_channel = 3 #RGB\n",
        "image_color_channel_size = 255\n",
        "image_size = (image_width, image_height)\n",
        "image_shape = image_size + (image_color_channel, )"
      ],
      "execution_count": null,
      "outputs": []
    }
  ]
}